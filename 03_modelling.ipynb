{
 "cells": [
  {
   "cell_type": "code",
   "execution_count": null,
   "metadata": {},
   "outputs": [],
   "source": [
    "# default_exp modelling"
   ]
  },
  {
   "cell_type": "code",
   "execution_count": null,
   "metadata": {},
   "outputs": [],
   "source": [
    "%load_ext autoreload\n",
    "%autoreload 2"
   ]
  },
  {
   "cell_type": "code",
   "execution_count": null,
   "metadata": {},
   "outputs": [],
   "source": [
    "from theonerig.core import *\n",
    "from theonerig.processing import *\n",
    "from theonerig.utils import *\n",
    "from theonerig.plotting import *"
   ]
  },
  {
   "cell_type": "code",
   "execution_count": null,
   "metadata": {},
   "outputs": [],
   "source": [
    "#export\n",
    "import math\n",
    "import scipy as sp\n",
    "import scipy.optimize\n",
    "import numpy as np"
   ]
  },
  {
   "cell_type": "code",
   "execution_count": null,
   "metadata": {},
   "outputs": [],
   "source": [
    "#export\n",
    "_default_sigmoid_p = (1,1,0,0)\n",
    "def sigmoid(x, sigma, amp, x0, y0):\n",
    "    \"\"\"Sigmoid function\n",
    "    params:\n",
    "        - x: 1D numpy array at which to evaluate the points\n",
    "        - sigma: steepness of the sigmoid\n",
    "        - amp: amplitude of the sigmoid\n",
    "        - x0: shift in x of the sigmoid\n",
    "        - y0: shift in y of the sigmoid\n",
    "    \"\"\"\n",
    "    return amp / (1.0 + np.exp(-sigma*(x-x0))) + y0\n",
    "\n",
    "_default_gaussian_p = (1,1,0,0)\n",
    "def gaussian(x, sigma, amp, x0, y0):\n",
    "    \"\"\"Gaussian function\n",
    "    params:\n",
    "        - x: 1D numpy array at which to evaluate the points        \n",
    "        - sigma: width of the gaussian\n",
    "        - amp: amplitude of the gaussian\n",
    "        - x0: shift in x of the gaussian\n",
    "        - y0: shift in y of the gaussian\n",
    "    \"\"\"\n",
    "    return amp * np.exp(-(x-x0)**2 / (2*sigma**2)) + y0\n",
    "\n",
    "_default_2Dgaussian_p = (1,1,1,0,0,0,0)\n",
    "def gaussian_2D(xz, sigma_x, sigma_z, amp, theta, x0, z0, y0):\n",
    "    \"\"\"Two dimensional Gaussian function\n",
    "    params:\n",
    "        - xz: meshgrid of x and z coordinates at which to evaluate the points\n",
    "        - sigma_x: width of the gaussian\n",
    "        - sigma_z: height of the gaussian\n",
    "        - amp: amplitude of the gaussian\n",
    "        - theta: angle of the gaussian (in radian)\n",
    "        - x0: shift in x of the gaussian\n",
    "        - z0: shift in z of the gaussian\n",
    "        - y0: shift in y of the gaussian\n",
    "    \"\"\"\n",
    "    (x,z) = xz\n",
    "    x0, z0 = float(x0), float(z0)\n",
    "    a =  (np.cos(theta)**2)/(2*sigma_x**2) + (np.sin(theta)**2)/(2*sigma_z**2)\n",
    "    b = -(np.sin(2*theta)) /(4*sigma_x**2) + (np.sin(2*theta)) /(4*sigma_z**2)\n",
    "    c =  (np.sin(theta)**2)/(2*sigma_x**2) + (np.cos(theta)**2)/(2*sigma_z**2)\n",
    "    g = amp * np.exp( -(a*((x-x0)**2) + 2*b*(x-x0)*(z-z0) + c*((z-z0)**2))) + y0\n",
    "    return g.ravel()\n",
    "\n",
    "def sum_of_gaussian(t, sigma_1, amp_1, x0_1, \n",
    "                       sigma_2, amp_2, x0_2, y0):\n",
    "    return (gaussian(t, sigma_1, amp_1, x0_1, 0) \n",
    "            + gaussian(t, sigma_2, amp_2, x0_2, 0) + y0)\n",
    "\n",
    "def sum_of_2D_gaussian(xz, sigma_x_1, sigma_z_1, amp_1, theta_1, x0_1, z0_1,\n",
    "                           sigma_x_2, sigma_z_2, amp_2, theta_2, x0_2, z0_2, y0):\n",
    "    return (gaussian_2D(xz, sigma_x_1, sigma_z_1, amp_1, theta_1, x0_1, z0_1, 0) \n",
    "            + gaussian_2D(xz, sigma_x_2, sigma_z_2, amp_2, theta_2, x0_2, z0_2, 0) + y0)\n"
   ]
  },
  {
   "cell_type": "code",
   "execution_count": null,
   "metadata": {},
   "outputs": [],
   "source": [
    "import matplotlib.pyplot as plt\n",
    "len_ = 20\n",
    "x = np.linspace(-5,5,len_)\n",
    "plt.figure()\n",
    "plt.plot(x, sigmoid(x,*_default_sigmoid_p))\n",
    "plt.plot(x, gaussian(x,*_default_gaussian_p))\n",
    "plt.plot(x, sum_of_gaussian(x, 1,1,0,  2,-.5,0, 0))\n",
    "\n",
    "xz = np.meshgrid(x,x)\n",
    "plt.figure()\n",
    "plt.imshow(gaussian_2D(xz, *_default_2Dgaussian_p).reshape(len_,len_), vmin=-1, vmax=1)\n",
    "plt.figure()\n",
    "plt.imshow(sum_of_2D_gaussian(xz, 2,1,2,0,0,0,\n",
    "                                  2,4,-1,2,0,0, 0).reshape(len_,len_), vmin=-1, vmax=1)\n"
   ]
  },
  {
   "cell_type": "code",
   "execution_count": null,
   "metadata": {},
   "outputs": [],
   "source": [
    "#export\n",
    "def fit_sigmoid(nonlin):\n",
    "    t = range(len(nonlin))\n",
    "    bounds = ([0.000001, 0     , 0     , 0],\n",
    "              [np.inf  , np.inf, np.inf, np.max(nonlin)])\n",
    "    try:\n",
    "        fit, _ = sp.optimize.curve_fit(sigmoid, t, nonlin, maxfev=10000, bounds=bounds)\n",
    "        res  = {\"sigma\":fit[0],\"amp\":fit[1],\"x0\":fit[2],\"y0\":fit[3]}\n",
    "    except RuntimeError:\n",
    "        res = {\"sigma\":1,\"amp\":0,\"x0\":0,\"y0\":0}\n",
    "    return res     \n",
    "\n",
    "def fit_spatial_sta(sta):\n",
    "    shape_y, shape_x = sta.shape\n",
    "    eps = 0.000001\n",
    "    argmax = np.unravel_index(sta.argmax(), sta.shape)\n",
    "    argmin = np.unravel_index(sta.argmin(), sta.shape)\n",
    "    #                   sigma_x    sigma_z   amp theta      x0        z0      y0\n",
    "    bounds_center   = ((0,         0,         0,  0,         0,       0,       0),\n",
    "                       (shape_x*4, shape_y*4, 2,  2*math.pi, shape_x, shape_y, eps))\n",
    "    if sta[argmax] < abs(sta[argmin]):\n",
    "        argmax, argmin  = argmin, argmax\n",
    "        bounds_center   = ((0,         0,        -2,  0,         0,       0,       0),\n",
    "                           (shape_x*4, shape_y*4, 0,  2*math.pi, shape_x, shape_y, eps))\n",
    "                       \n",
    "    x    = np.arange(shape_x)\n",
    "    z    = np.arange(shape_y)\n",
    "    x, z = np.meshgrid(x, z)\n",
    "    #                   sigma_x sigma_z  amp        theta      x0        z0       y0\n",
    "    init_fit_center   = (  1,     1,    sta[argmax],  0,   argmax[1],  argmax[0], 0)\n",
    "    data_tofit          = sta.reshape(-1)\n",
    "    if np.isnan(sp.sum(sta)): #We check that the sta exists, otherwise return default zero model\n",
    "        res  = {\"sigma_x_1\": 1, \"sigma_z_1\":1, \"amp_1\":0, \"theta_1\":0, \"x0_1\":0, \"z0_1\":0,\n",
    "                \"sigma_x_2\": 1, \"sigma_z_2\":1, \"amp_2\":0, \"theta_2\":0, \"x0_2\":0, \"z0_2\":0, \"y0\":0}\n",
    "    else:\n",
    "        try:\n",
    "            fit_c, _   = sp.optimize.curve_fit(gaussian_2D, (x,z), data_tofit, p0=init_fit_center, bounds=bounds_center)\n",
    "            tmp_to_fit =  data_tofit - gaussian_2D((x,z), *fit_c)\n",
    "            #                   sigma_x    sigma_z   amp theta        x0            z0           y0\n",
    "            bounds_surround = ((0,         0,        -2,  0,         fit_c[4],     fit_c[5],     0),\n",
    "                               (shape_x*4, shape_y*4, 0,  2*math.pi, fit_c[4]+eps, fit_c[5]+eps, eps))\n",
    "            init_fit_surround = (  2,      2,         0,  0,         fit_c[4],     fit_c[5],     0)\n",
    "            fit_s, _   = sp.optimize.curve_fit(gaussian_2D, (x,z), tmp_to_fit, p0=init_fit_surround, bounds=bounds_surround)\n",
    "                       \n",
    "            init_fit_sum = (*fit_c[:-1],*fit_s[:-1],0)\n",
    "            #Bounding only the position, that center fit should have found\n",
    "            bounds_sum   = ((-np.inf,-np.inf,-np.inf,-np.inf,fit_c[4],fit_c[5],\n",
    "                             -np.inf,-np.inf,-np.inf,-np.inf,fit_c[4],fit_c[5],-np.inf),\n",
    "                            (np.inf, np.inf, np.inf, np.inf, fit_s[4]+eps,fit_s[5]+eps,\n",
    "                             np.inf,np.inf,np.inf,np.inf,fit_s[4]+eps,fit_s[5]+eps,np.inf))\n",
    "            fit_sum, _ = sp.optimize.curve_fit(sum_of_2D_gaussian, (x,z), data_tofit, p0=init_fit_sum, bounds=bounds_sum)\n",
    "            res  = {\"sigma_x_1\": fit_sum[0], \"sigma_z_1\":fit_sum[1], \"amp_1\":fit_sum[2], \n",
    "                    \"theta_1\":fit_sum[3], \"x0_1\":fit_sum[4], \"z0_1\":fit_sum[5],\n",
    "                    \"sigma_x_2\": fit_sum[6], \"sigma_z_2\":fit_sum[7], \"amp_2\":fit_sum[8], \n",
    "                    \"theta_2\":fit_sum[9], \"x0_2\":fit_sum[10], \"z0_2\":fit_sum[11], \"y0\":fit_sum[12]}\n",
    "\n",
    "        except RuntimeError: #If a model can't be fitted, we get a runtimeError\n",
    "            res  = {\"sigma_x_1\": 1, \"sigma_z_1\":1, \"amp_1\":0, \"theta_1\":0, \"x0_1\":0, \"z0_1\":0,\n",
    "                    \"sigma_x_2\": 1, \"sigma_z_2\":1, \"amp_2\":0, \"theta_2\":0, \"x0_2\":0, \"z0_2\":0, \"y0\":0}\n",
    "\n",
    "    return res\n"
   ]
  },
  {
   "cell_type": "code",
   "execution_count": null,
   "metadata": {},
   "outputs": [],
   "source": [
    "import matplotlib.pyplot as plt\n",
    "#Load all the test data\n",
    "from theonerig.testdata import *\n",
    "locals().update(load_vivo_2p(\"./files/vivo_2p\"))\n",
    "\n",
    "pipe = Data_Pipe(reM, [\"checkerboard\", \"eye_tracking\", \"S_matrix\"], [\"stim_inten\", \"eye_track\", \"spike_counts\"])\n",
    "pipe += \"checkerboard\"\n",
    "result_sta = process_sta_batch(eyetrack_stim_inten(pipe[0][\"stim_inten\"], pipe[0][\"eye_track\"]), \n",
    "                               pipe[0][\"spike_counts\"], Hw=40)"
   ]
  },
  {
   "cell_type": "code",
   "execution_count": null,
   "metadata": {},
   "outputs": [],
   "source": [
    "sta = result_sta[1]\n",
    "sta_to_fit = peak_sta_frame(sta)\n",
    "fit_2d = fit_spatial_sta(sta_to_fit)\n",
    "x    = np.arange(sta.shape[2])\n",
    "z    = np.arange(sta.shape[1])\n",
    "x, z = np.meshgrid(x, z)\n",
    "\n",
    "plot_2d_sta(sum_of_2D_gaussian((x,z), **fit_2d).reshape(sta.shape[1],sta.shape[2]))\n",
    "plot_2d_sta(sta_to_fit)"
   ]
  },
  {
   "cell_type": "code",
   "execution_count": null,
   "metadata": {},
   "outputs": [],
   "source": [
    "#export\n",
    "def fit_temporal_sta(sta):\n",
    "    argmax = sta.argmax()\n",
    "    argmin = sta.argmin()\n",
    "    if sta[argmax] < abs(sta[argmin]):\n",
    "        argmax, argmin = argmin, argmax\n",
    "    t = range(len(sta))\n",
    "    init_fit = (2,      sta[argmin],argmin,    2,    sta[argmax],argmax,     0)\n",
    "    \n",
    "                #sigma_1,   amp_1,  x0_1,    sigma_2,    amp_2,  x0_2,       y0\n",
    "    bounds   = ((0,           -1,     0,        0,         -1,     0,        -1), \n",
    "                (len(sta)*4,  1,    len(sta), len(sta)*4,   1,   len(sta),    1 ))\n",
    "    \n",
    "    if np.isnan(sp.sum(sta)): #We check that the sta exists, otherwise return default zero model\n",
    "        res  = {\"sigma_1\":1,\"amp_1\":0,\"x0_1\":0,\n",
    "                \"sigma_2\":1,\"amp_2\":0,\"x0_2\":0,\"y0\":0}\n",
    "    else:\n",
    "        try:\n",
    "            fit, _ = sp.optimize.curve_fit(sum_of_gaussian, t, sta, p0=init_fit, bounds=bounds)\n",
    "            res  = {\"sigma_1\":fit[0],\"amp_1\":fit[1],\"x0_1\":fit[2],\n",
    "                    \"sigma_2\":fit[3],\"amp_2\":fit[4],\"x0_2\":fit[5],\"y0\":fit[6]}\n",
    "        except RuntimeError: #If a model can't be fitted, we get a runtimeError\n",
    "            res  = {\"sigma_1\":1,\"amp_1\":0,\"x0_1\":0,\n",
    "                    \"sigma_2\":1,\"amp_2\":0,\"x0_2\":0,\"y0\":0}\n",
    "\n",
    "    return res"
   ]
  },
  {
   "cell_type": "code",
   "execution_count": null,
   "metadata": {},
   "outputs": [],
   "source": [
    "#Fitting the temporal component of a STA\n",
    "sta_to_fit = sta[:,int(fit_2d['z0_1']),int(fit_2d['x0_1'])]\n",
    "fit_t = fit_temporal_sta(sta_to_fit)\n",
    "plt.figure()\n",
    "plt.plot(sta_to_fit)\n",
    "plt.plot(sum_of_gaussian(np.arange(len(sta_to_fit)), **fit_t))"
   ]
  },
  {
   "cell_type": "code",
   "execution_count": null,
   "metadata": {},
   "outputs": [],
   "source": [
    "pipe = Data_Pipe(reM, [\"checkerboard\", \"eye_tracking\", \"S_matrix\"], [\"stim_inten\", \"eye_track\", \"spike_counts\"])\n",
    "pipe += \"checkerboard\"\n",
    "stim_inten_corrected = eyetrack_stim_inten(pipe[0][\"stim_inten\"], pipe[0][\"eye_track\"])\n",
    "stim_ensembl = stimulus_ensemble(stim_inten_corrected)\n",
    "nonlin = process_nonlinearity(stim_ensembl, pipe[0][\"spike_counts\"][30:,0])"
   ]
  },
  {
   "cell_type": "code",
   "execution_count": null,
   "metadata": {},
   "outputs": [],
   "source": [
    "plt.figure()\n",
    "plt.plot(nonlin)\n",
    "plt.plot(sigmoid(range(len(nonlin)),**fit_sigmoid(nonlin)))"
   ]
  },
  {
   "cell_type": "code",
   "execution_count": null,
   "metadata": {},
   "outputs": [],
   "source": [
    "from nbdev.export import *\n",
    "notebook2script()"
   ]
  }
 ],
 "metadata": {
  "kernelspec": {
   "display_name": "Python 3",
   "language": "python",
   "name": "python3"
  }
 },
 "nbformat": 4,
 "nbformat_minor": 2
}
