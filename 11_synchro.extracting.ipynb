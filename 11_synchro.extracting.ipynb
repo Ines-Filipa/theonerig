{
 "cells": [
  {
   "cell_type": "code",
   "execution_count": null,
   "metadata": {},
   "outputs": [],
   "source": [
    "#default_exp synchro.extracting"
   ]
  },
  {
   "cell_type": "code",
   "execution_count": null,
   "metadata": {},
   "outputs": [],
   "source": [
    "%load_ext autoreload\n",
    "%autoreload 2"
   ]
  },
  {
   "cell_type": "code",
   "execution_count": null,
   "metadata": {},
   "outputs": [],
   "source": [
    "#export\n",
    "import numpy as np\n",
    "import datetime\n",
    "import os, glob\n",
    "\n",
    "class QDSpy_log:\n",
    "    def __init(self, log_dir):\n",
    "        self.dir = log_dir\n",
    "        self.log_names = glob.glob(os.path.join(self.dir,'[0-9]*.log'))\n",
    "        self.stimuli = []\n",
    "        self.comments = []\n",
    "        \n",
    "    def _extract_data(self, data_line):\n",
    "        data = data_line[data_line.find('{')+1:data_line.find('}')]\n",
    "        data_splitted = data.split(',')\n",
    "        data_dict = {}\n",
    "        for data in data_splitted:\n",
    "            ind = data.find(\"'\")\n",
    "            if type(data[data.find(\":\")+2:]) is str:\n",
    "                data_dict[data[ind+1:data.find(\"'\",ind+1)]] = data[data.find(\":\")+2:][1:-1]\n",
    "            else:\n",
    "                data_dict[data[ind+1:data.find(\"'\",ind+1)]] = data[data.find(\":\")+2:]\n",
    "        return data_dict\n",
    "\n",
    "    def _extract_time(self,data_line):\n",
    "        line = '%s' % data_line\n",
    "        year = int(line[0:4])\n",
    "        month = int(line[4:6])\n",
    "        day = int(line[6:8])\n",
    "        hour =int(line[9:11])\n",
    "        minute = int(line[11:13])\n",
    "        second = int(line[13:15])\n",
    "        result = datetime.datetime(year,month,day,hour,minute,second)\n",
    "        return result\n",
    "    \n",
    "    def _extract_dropped(self,data_line):\n",
    "        ind = data_line.find('#')\n",
    "        index_frame = int(data_line[ind+1:data_line.find(' ',ind)])\n",
    "        ind = data_line.find('was')\n",
    "        delay = float(data_line[ind:].split(\" \")[1])\n",
    "        return (index_frame, delay)\n",
    "    \n",
    "    @property\n",
    "    def n_stim(self):\n",
    "        n_stim = 0\n",
    "        for s in stimuli:\n",
    "            n_stim+=len(s)\n",
    "        return n_stim\n",
    "\n",
    "    @property\n",
    "    def stim_names(self):\n",
    "        return [stim.name for stim in stimuli for stimuli in self.stimuli]\n",
    "    \n",
    "    def find_stimuli(self):\n",
    "        \"\"\"Find the stimuli in the log file and return the list of the stimuli\n",
    "        found by this object.\"\"\"\n",
    "        for k, log_name in enumerate(self.log_names):\n",
    "            self.stimuli.append([])\n",
    "            with open(os.path.join(self.dir, log_name), 'r') as log_file:\n",
    "                for line in log_file:\n",
    "                    if \"DATA\" in line:\n",
    "                        data_juice = self._extract_data(line)\n",
    "                        if 'stimState' in data_juice.keys():\n",
    "                            if data_juice['stimState'] == \"STARTED\" :\n",
    "                                curr_stim = Stimulus(self._extract_time(line))\n",
    "                                curr_stim.set_parameters(data_juice)\n",
    "                                self.stimuli[k].append(curr_stim)\n",
    "                                stimulus_ON = True\n",
    "                            elif data_juice['stimState'] == \"FINISHED\" or data_juice['stimState'] == \"ABORTED\":\n",
    "                                curr_stim.is_aborted = data_juice['stimState'] == \"ABORTED\"\n",
    "                                curr_stim.stop_time = self._extract_time(line)\n",
    "                                stimulus_ON = False\n",
    "\n",
    "                        elif 'userComment' in data_juice.keys():\n",
    "                            pass\n",
    "                            #print(\"userComment, use it to bind logs to records\")\n",
    "                        elif stimulus_ON: #Information on stimulus parameters\n",
    "                            curr_stim.set_parameters(data_juice)\n",
    "        #                elif 'probeX' in data_juice.keys():\n",
    "                #            print(\"Probe center not implemented yet\")\n",
    "                    if \"WARNING\" in line and \"dt of frame\" and stimulus_ON:\n",
    "                        curr_stim.frame_drop.append(self._extract_dropped(line))\n",
    "        return self.stimuli"
   ]
  },
  {
   "cell_type": "code",
   "execution_count": null,
   "metadata": {},
   "outputs": [
    {
     "name": "stdout",
     "output_type": "stream",
     "text": [
      "Converted 00_core.ipynb.\n",
      "Converted 01_utils.ipynb.\n",
      "Converted 02_processing.ipynb.\n",
      "Converted 03_modelling.ipynb.\n",
      "Converted 04_plotting.ipynb.\n",
      "Converted 10_synchro.io.ipynb.\n",
      "Converted 11_synchro.extracting.ipynb.\n",
      "Converted 99_testdata.ipynb.\n",
      "Converted index.ipynb.\n"
     ]
    }
   ],
   "source": [
    "#hide\n",
    "from nbdev.export import *\n",
    "notebook2script()"
   ]
  }
 ],
 "metadata": {
  "kernelspec": {
   "display_name": "Python 3",
   "language": "python",
   "name": "python3"
  }
 },
 "nbformat": 4,
 "nbformat_minor": 2
}
