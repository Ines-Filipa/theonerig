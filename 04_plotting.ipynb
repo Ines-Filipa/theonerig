{
 "cells": [
  {
   "cell_type": "code",
   "execution_count": null,
   "metadata": {},
   "outputs": [],
   "source": [
    "# default_exp plotting"
   ]
  },
  {
   "cell_type": "code",
   "execution_count": null,
   "metadata": {},
   "outputs": [],
   "source": [
    "%load_ext autoreload\n",
    "%autoreload 2"
   ]
  },
  {
   "cell_type": "code",
   "execution_count": null,
   "metadata": {},
   "outputs": [],
   "source": [
    "#export\n",
    "import matplotlib.pyplot as plt\n",
    "from matplotlib import gridspec\n",
    "import numpy as np\n",
    "\n",
    "from theonerig.core import *\n",
    "from theonerig.processing import *\n",
    "from theonerig.utils import *\n",
    "from theonerig.modelling import *"
   ]
  },
  {
   "cell_type": "code",
   "execution_count": null,
   "metadata": {},
   "outputs": [],
   "source": [
    "#export\n",
    "def plot_2d_sta(sta):\n",
    "    sta = np.array(sta)\n",
    "    if len(sta.shape) == 2:\n",
    "        sta = [sta]\n",
    "    fig = plt.figure(figsize=(20,4+len(sta)//8*2))\n",
    "    gs = gridspec.GridSpec(len(sta)//8 + 1, 8)    \n",
    "    for i, frame in enumerate(sta):\n",
    "        ax1 = plt.subplot(gs[i//8, i%8])\n",
    "        ax1.imshow(frame, cmap='gray',vmin=-1, vmax=1)"
   ]
  },
  {
   "cell_type": "code",
   "execution_count": null,
   "metadata": {},
   "outputs": [],
   "source": [
    "from os.path import join\n",
    "import matplotlib.pyplot as plt\n",
    "vivo_2p_dir = \"./files/vivo_2p\"\n",
    "reM = import_record(join(vivo_2p_dir, \"record_master.h5\"))\n",
    "pipe = Data_Pipe(reM, [\"checkerboard\", \"eye_tracking\", \"S_matrix\"], [\"stim_inten\", \"eye_track\", \"spike_counts\"])\n",
    "pipe += \"checkerboard\"\n",
    "result_sta = process_sta_batch(eyetrack_stim_inten(pipe[0][\"stim_inten\"], pipe[0][\"eye_track\"]), \n",
    "                               pipe[0][\"spike_counts\"], Hw=40)"
   ]
  },
  {
   "cell_type": "code",
   "execution_count": null,
   "metadata": {},
   "outputs": [],
   "source": [
    "plot_2d_sta(result_sta[0][::2])"
   ]
  },
  {
   "cell_type": "code",
   "execution_count": null,
   "metadata": {},
   "outputs": [],
   "source": [
    "#export\n",
    "def plot_cross_correlation(correlation_array, threshold=.1  ,two_sided=True, figsize=None):\n",
    "    if figsize is None:\n",
    "        figsize = (len(correlation_array), len(correlation_array))\n",
    "    n_cell = correlation_array.shape[0]\n",
    "    _min,_max = np.min(correlation_array), np.max(correlation_array)\n",
    "    thresh = (_max-_min) * threshold\n",
    "    fig = plt.figure(figsize=figsize)\n",
    "    for i in range(n_cell):\n",
    "        for j in range(i, n_cell):\n",
    "            c = \"#1f77b4\"\n",
    "            if np.max(correlation_array[i,j])-np.min(correlation_array[i,j]) > thresh:\n",
    "                c = \"red\"\n",
    "            for k in range(2 if two_sided else 1):\n",
    "                if k==0:\n",
    "                    ax = fig.add_subplot(n_cell,n_cell,i*n_cell+j+1, ylim=(_min,_max), label=str(i*n_cell+j+1))\n",
    "                else:\n",
    "                    ax = fig.add_subplot(n_cell,n_cell,j*n_cell+i+1, ylim=(_min,_max), label=\"b\"+str(i*n_cell+j+1))\n",
    "                plt.plot(correlation_array[i,j], c=c)\n",
    "                plt.axis('off')\n",
    "                if i == 0 and k==0:\n",
    "                    ax.set_title(str(j))  \n",
    "                elif i == 0 and k==1:\n",
    "                    ax.set_title(str(j), pad =-50, loc=\"left\")  \n",
    "                elif i == j:\n",
    "                    ax.set_title(str(j), pad =-50, loc=\"center\")"
   ]
  },
  {
   "cell_type": "code",
   "execution_count": null,
   "metadata": {},
   "outputs": [],
   "source": [
    "pipe = Data_Pipe(reM, [\"S_matrix\"])\n",
    "pipe += \"checkerboard\"\n",
    "checker_corr = cross_correlation(pipe[0][\"S_matrix\"])\n",
    "plot_cross_correlation(checker_corr, threshold=.3, figsize=(4,4))"
   ]
  },
  {
   "cell_type": "code",
   "execution_count": null,
   "metadata": {},
   "outputs": [],
   "source": [
    "#export\n",
    "def plot_2d_fit(sta, param_d, figsize=None):\n",
    "    if figsize is None:\n",
    "        figsize = (4,8)\n",
    "    fig = plt.figure(figsize=figsize)\n",
    "    plt.subplot(1,2,1)\n",
    "    plt.imshow(sta, vmin=-1,vmax=1, cmap=\"gray\")\n",
    "    plt.subplot(1,2,2)\n",
    "    \n",
    "    plt.imshow(img_2d_fit(sta.shape, param_d, f=sum_of_2D_gaussian), vmin=-1,vmax=1, cmap=\"gray\")"
   ]
  },
  {
   "cell_type": "code",
   "execution_count": null,
   "metadata": {},
   "outputs": [],
   "source": [
    "sta = result_sta[0,25]\n",
    "plot_2d_fit(sta, fit_spatial_sta(sta))"
   ]
  },
  {
   "cell_type": "code",
   "execution_count": null,
   "metadata": {},
   "outputs": [],
   "source": [
    "from nbdev.export import *\n",
    "notebook2script()"
   ]
  }
 ],
 "metadata": {
  "kernelspec": {
   "display_name": "Python 3",
   "language": "python",
   "name": "python3"
  }
 },
 "nbformat": 4,
 "nbformat_minor": 2
}
