{
 "cells": [
  {
   "cell_type": "code",
   "execution_count": null,
   "metadata": {},
   "outputs": [],
   "source": [
    "# default_exp utils"
   ]
  },
  {
   "cell_type": "code",
   "execution_count": null,
   "metadata": {},
   "outputs": [],
   "source": [
    "from theonerig.core import *"
   ]
  },
  {
   "cell_type": "code",
   "execution_count": null,
   "metadata": {},
   "outputs": [],
   "source": [
    "from nbdev.test import test_eq\n",
    "from nbdev.showdoc import *"
   ]
  },
  {
   "cell_type": "markdown",
   "metadata": {},
   "source": [
    "# Utils\n",
    "> Useful functiosn to reshape/arrange/reduce raw data into clean data to add to the record"
   ]
  },
  {
   "cell_type": "code",
   "execution_count": null,
   "metadata": {},
   "outputs": [],
   "source": [
    "#export\n",
    "import numpy as np\n",
    "from typing import Dict, Tuple, Sequence, Union, Callable\n",
    "import scipy.interpolate as interpolate\n",
    "from scipy.ndimage import convolve1d"
   ]
  },
  {
   "cell_type": "code",
   "execution_count": null,
   "metadata": {},
   "outputs": [],
   "source": [
    "#export\n",
    "def extend_sync_timepoints(timepoints:np.ndarray, signals:np.ndarray, \n",
    "                           up_bound, low_bound=0) -> Tuple[DataChunk, DataChunk]:\n",
    "    \"\"\"From `timepoints` and `signals` list, extend it on the left so it includes `low_bound`, and extend it\n",
    "    up to `up_bound`.\n",
    "    Return the new timepoints and signals as DataChunk objets with the number of timepoints added to the left\n",
    "    as a tuple.\n",
    "    \"\"\"\n",
    "    assert len(timepoints) == len(signals)\n",
    "    timepoints = np.array(timepoints)\n",
    "    signals = np.array(signals)\n",
    "    spb = np.mean(timepoints[1:]-timepoints[:-1]) #spf: sample_per_bin\n",
    "        \n",
    "    #Left and right side are just prolongation of the sample_times up \n",
    "    # from (0-sample_per_fr) to (len+sample_per_fr) so it covers all timepoints\n",
    "    left_side  = np.arange(timepoints[0]-spb , low_bound - spb, -spb)[::-1].astype(int)\n",
    "    right_side = np.arange(timepoints[-1]+spb,  up_bound + spb,  spb).astype(int)\n",
    "\n",
    "    new_timepoints = np.concatenate((left_side, \n",
    "                                     timepoints, \n",
    "                                     right_side))\n",
    "    \n",
    "    timepoint_chunk = DataChunk(data=new_timepoints, idx=0, group=\"sync\")\n",
    "    signal_chunk    = DataChunk(data=signals, idx=len(left_side), group=\"sync\")\n",
    "    return (timepoint_chunk, signal_chunk, len(left_side))"
   ]
  },
  {
   "cell_type": "markdown",
   "metadata": {},
   "source": [
    "It extends the timepoints by finding the typical distance between timepoints so it includes both left and right limits."
   ]
  },
  {
   "cell_type": "code",
   "execution_count": null,
   "metadata": {},
   "outputs": [],
   "source": [
    "extended_tp, extended_sig, n_left = extend_sync_timepoints([7900,8900,9900], signals=[1,2,3], up_bound=15000)"
   ]
  },
  {
   "cell_type": "code",
   "execution_count": null,
   "metadata": {},
   "outputs": [
    {
     "name": "stdout",
     "output_type": "stream",
     "text": [
      "Group: sync\n",
      "Starting index: 0\n",
      "Filling value: 0\n",
      "[ -100   900  1900  2900  3900  4900  5900  6900  7900  8900  9900 10900\n",
      " 11900 12900 13900 14900 15900]\n",
      "\n",
      "Group: sync\n",
      "Starting index: 8\n",
      "Filling value: 0\n",
      "[1 2 3]\n",
      "\n",
      "N timepoints added to the left: 8\n"
     ]
    }
   ],
   "source": [
    "print(extended_tp, end=\"\\n\\n\")\n",
    "print(extended_sig, end=\"\\n\\n\")\n",
    "print(\"N timepoints added to the left:\",n_left)"
   ]
  },
  {
   "cell_type": "code",
   "execution_count": null,
   "metadata": {},
   "outputs": [],
   "source": [
    "#export\n",
    "def align_sync_timepoints(timepoints:np.ndarray, signals:np.ndarray,\n",
    "                          ref_timepoints:DataChunk, ref_signals:DataChunk, \n",
    "                          shift=None) -> DataChunk:\n",
    "    \"\"\"Align the `signals` of a `timepoints` timeserie to a reference `ref_timepoints` with the corresponding\n",
    "    `ref_signals`. A `shift` can be directly specified, otherwise it will be searched by finding the maximum\n",
    "    of the correlations of the two signals timeseries.\n",
    "    Returns a DataChunk of the aligned timepoints\"\"\"\n",
    "    assert len(timepoints) == len(signals)\n",
    "    timepoints = np.array(timepoints)\n",
    "    signals = np.array(signals)\n",
    "    \n",
    "    if shift is None: #If a shift is provided we use it, otherwise we use the max correlation\n",
    "        shift = np.argmax(np.correlate(ref_signals, signals, mode=\"valid\"))\n",
    "        \n",
    "    spb = np.mean(timepoints[1:]-timepoints[:-1]) #spf: sample_per_bin\n",
    "    n_left  = ref_signals.idx + shift\n",
    "    n_right = (len(ref_timepoints) \n",
    "               - len(timepoints) \n",
    "               - n_left)\n",
    "\n",
    "    init_left  = timepoints[0]-spb\n",
    "    init_right = timepoints[-1]+spb\n",
    "\n",
    "    left_side  = np.arange(init_left , init_left-(spb*n_left+1), -spb)[:n_left][::-1].astype(int)\n",
    "    right_side = np.arange(init_right, init_right+(spb*n_right+1), spb)[:n_right].astype(int)\n",
    "\n",
    "    new_timepoints = np.concatenate((left_side, \n",
    "                                     timepoints, \n",
    "                                     right_side))\n",
    "    return DataChunk(data=new_timepoints, idx=0, group=\"sync\")"
   ]
  },
  {
   "cell_type": "code",
   "execution_count": null,
   "metadata": {},
   "outputs": [
    {
     "name": "stdout",
     "output_type": "stream",
     "text": [
      "Group: sync\n",
      "Starting index: 0\n",
      "Filling value: 0\n",
      "[-7000 -6000 -5000 -4000 -3000 -2000 -1000     0  1000  2000  3000  4000\n",
      "  5000  6000  7000  8000  9000]\n"
     ]
    }
   ],
   "source": [
    "#Aligning these signals 1,2,3 to the previously extended timepoints and signals\n",
    "aligned_timepoints = align_sync_timepoints(timepoints=[1000,2000,3000], signals=[1,2,3],\n",
    "                     ref_timepoints=extended_tp, ref_signals=extended_sig)\n",
    "\n",
    "#We can observe 8 timepoints added to our function to match all existing frame of the reference.\n",
    "print(aligned_timepoints)\n",
    "test_eq(len(aligned_timepoints), len(extended_tp))"
   ]
  },
  {
   "cell_type": "code",
   "execution_count": null,
   "metadata": {},
   "outputs": [],
   "source": [
    "#export\n",
    "def downsample_to_timepoints(timepoints:np.ndarray, data:np.ndarray, \n",
    "                             ref_timepoints:DataChunk, group=\"data\") -> DataChunk:\n",
    "    \"\"\"Downsample the `data` at the `timepoints` to a smaller array at the timepoints of `ref_timepoints`.\n",
    "    Return a DataChunck of the downsampled data belonging to `group`.\"\"\"\n",
    "    \n",
    "    assert len(timepoints) == len(data)\n",
    "    timepoints = np.array(timepoints)\n",
    "    data = np.array(data)\n",
    "    \n",
    "    start_idx = np.argmax(timepoints[0] <=ref_timepoints)\n",
    "    stop_idx  = np.argmax(timepoints[-1]<=ref_timepoints)\n",
    "    \n",
    "    distance = (np.argmax(timepoints>ref_timepoints[start_idx+1]) \n",
    "            - np.argmax(timepoints>ref_timepoints[start_idx]))\n",
    "    \n",
    "    #Use numpy convolution to smooth. Could be generalized to higher dimension data\n",
    "    # with scipy.ndimage.convolve1d\n",
    "    kernel = np.ones(distance)/distance\n",
    "    smooth_data = convolve1d(data, kernel, axis=0) #Smooting to avoid weird sampling\n",
    "    new_data = interpolate.interp1d(timepoints, smooth_data, axis=0)(ref_timepoints[start_idx:stop_idx])\n",
    "\n",
    "    idx = ref_timepoints.idx + start_idx\n",
    "    return DataChunk(data=new_data, idx = idx, group=group)"
   ]
  },
  {
   "cell_type": "code",
   "execution_count": null,
   "metadata": {},
   "outputs": [
    {
     "data": {
      "text/plain": [
       "[<matplotlib.lines.Line2D at 0x208ac0c4dd8>]"
      ]
     },
     "execution_count": null,
     "metadata": {},
     "output_type": "execute_result"
    },
    {
     "data": {
      "image/png": "[encoded data removed]",
      "text/plain": [
       "<Figure size 720x288 with 1 Axes>"
      ]
     },
     "metadata": {
      "needs_background": "light"
     },
     "output_type": "display_data"
    }
   ],
   "source": [
    "import matplotlib.pyplot as plt\n",
    "np.random.seed(3)\n",
    "too_large_data = np.random.rand(20)\n",
    "data_timepoints = np.linspace(0,10000,20,endpoint=False, dtype=int)\n",
    "\n",
    "downsamp_data = downsample_to_timepoints(data_timepoints, too_large_data, \n",
    "                                         ref_timepoints=extended_tp)\n",
    "\n",
    "plt.figure(figsize=(10,4))\n",
    "plt.plot(data_timepoints, too_large_data)\n",
    "start,stop = downsamp_data.idx, downsamp_data.idx+len(downsamp_data)\n",
    "plt.plot(extended_tp[start:stop], downsamp_data)"
   ]
  },
  {
   "cell_type": "code",
   "execution_count": null,
   "metadata": {},
   "outputs": [
    {
     "name": "stdout",
     "output_type": "stream",
     "text": [
      "Converted 00_core.ipynb.\n",
      "Converted 01_utils.ipynb.\n",
      "Converted index.ipynb.\n"
     ]
    }
   ],
   "source": [
    "from nbdev.export import *\n",
    "notebook2script()"
   ]
  }
 ],
 "metadata": {
  "kernelspec": {
   "display_name": "Python 3",
   "language": "python",
   "name": "python3"
  }
 },
 "nbformat": 4,
 "nbformat_minor": 2
}
